{
 "cells": [
  {
   "cell_type": "code",
   "execution_count": 1,
   "metadata": {},
   "outputs": [
    {
     "name": "stderr",
     "output_type": "stream",
     "text": [
      "C:\\ProgramData\\Anaconda3\\lib\\site-packages\\tqdm\\std.py:697: FutureWarning: The Panel class is removed from pandas. Accessing it from the top-level namespace will also be removed in the next version\n",
      "  from pandas import Panel\n"
     ]
    },
    {
     "name": "stdout",
     "output_type": "stream",
     "text": [
      "Using matplotlib backend: Qt5Agg\n"
     ]
    }
   ],
   "source": [
    "import timeit\n",
    "import omap\n",
    "import evr\n",
    "%matplotlib\n",
    "import time_synchronize\n",
    "import datetime"
   ]
  },
  {
   "cell_type": "code",
   "execution_count": 2,
   "metadata": {},
   "outputs": [
    {
     "name": "stdout",
     "output_type": "stream",
     "text": [
      "OMAP folder exist!\n",
      "Train folder exist!\n",
      "---Processing Train 23 Car 45---\n",
      "---Processing ATO Dataframe---\n",
      "Number of null value entry =  0\n",
      "Found non-monotonic sequence at index:  Int64Index([25122, 41971, 51783, 57456, 85700, 89530, 95312], dtype='int64')\n",
      "[Timestamp('2019-11-14 16:37:01'), Timestamp('2019-11-14 16:37:02')]\n",
      "[17, 16]\n",
      "[17, 16]\n",
      "[Timestamp('2019-11-14 17:05:12'), Timestamp('2019-11-14 17:05:13'), Timestamp('2019-11-14 17:05:14'), Timestamp('2019-11-14 17:05:15'), Timestamp('2019-11-14 17:05:16'), Timestamp('2019-11-14 17:05:17'), Timestamp('2019-11-14 17:05:18'), Timestamp('2019-11-14 17:05:19'), Timestamp('2019-11-14 17:05:20'), Timestamp('2019-11-14 17:05:21'), Timestamp('2019-11-14 17:05:22'), Timestamp('2019-11-14 17:05:23'), Timestamp('2019-11-14 17:05:24'), Timestamp('2019-11-14 17:05:25'), Timestamp('2019-11-14 17:05:26'), Timestamp('2019-11-14 17:05:27'), Timestamp('2019-11-14 17:05:28'), Timestamp('2019-11-14 17:05:29'), Timestamp('2019-11-14 17:05:30'), Timestamp('2019-11-14 17:05:31'), Timestamp('2019-11-14 17:05:32'), Timestamp('2019-11-14 17:05:33'), Timestamp('2019-11-14 17:05:34'), Timestamp('2019-11-14 17:05:35'), Timestamp('2019-11-14 17:05:36'), Timestamp('2019-11-14 17:05:37'), Timestamp('2019-11-14 17:05:38'), Timestamp('2019-11-14 17:05:39')]\n",
      "[20, 20, 19, 19, 19, 19, 19, 19, 19, 19, 19, 19, 19, 19, 19, 19, 19, 19, 19, 19, 19, 19, 19, 19, 19, 19, 19, 19]\n",
      "[20, 19, 19, 19, 19, 19, 19, 19, 19, 19, 19, 19, 19, 19, 20, 19, 19, 19, 19, 19, 19, 19, 19, 19, 19, 19, 19, 19]\n",
      "[Timestamp('2019-11-14 17:21:50'), Timestamp('2019-11-14 17:21:51')]\n",
      "[16, 15]\n",
      "[16, 15]\n",
      "[Timestamp('2019-11-14 17:31:29'), Timestamp('2019-11-14 17:31:30')]\n",
      "[16, 16]\n",
      "[Timestamp('2019-11-14 18:19:37'), Timestamp('2019-11-14 18:19:38')]\n",
      "[17, 16]\n",
      "[17, 16]\n",
      "[Timestamp('2019-11-14 18:26:05'), Timestamp('2019-11-14 18:26:06')]\n",
      "[18, 18]\n",
      "[Timestamp('2019-11-14 18:35:51'), Timestamp('2019-11-14 18:35:52')]\n",
      "[16, 15]\n",
      "[16, 15]\n",
      "Int64Index([], dtype='int64')\n",
      "---Processing ATP Dataframe---\n",
      "Number of null value entry =  0\n",
      "---Processing COM Dataframe---\n",
      "Number of null value entry =  0\n",
      "---Processing TDMS Dataframe---\n",
      "Number of null value entry =  0\n",
      "---Merging Dataframes---\n"
     ]
    },
    {
     "name": "stderr",
     "output_type": "stream",
     "text": [
      "100%|████████████████████████████████████████████████████████████████████████| 124322/124322 [00:22<00:00, 5445.73it/s]\n",
      "100%|███████████████████████████████████████████████████████████████████████| 124322/124322 [00:04<00:00, 30927.36it/s]\n",
      "100%|████████████████████████████████████████████████████████████████████████| 124322/124322 [01:03<00:00, 1955.63it/s]\n"
     ]
    },
    {
     "name": "stdout",
     "output_type": "stream",
     "text": [
      "---Merging Dataframes---\n"
     ]
    },
    {
     "name": "stderr",
     "output_type": "stream",
     "text": [
      "100%|████████████████████████████████████████████████████████████████████████| 124542/124542 [00:21<00:00, 5788.43it/s]\n",
      "100%|███████████████████████████████████████████████████████████████████████| 124542/124542 [00:02<00:00, 42545.82it/s]\n",
      "100%|████████████████████████████████████████████████████████████████████████| 124542/124542 [00:43<00:00, 2873.50it/s]\n"
     ]
    },
    {
     "name": "stdout",
     "output_type": "stream",
     "text": [
      "---Merging Dataframes---\n"
     ]
    },
    {
     "name": "stderr",
     "output_type": "stream",
     "text": [
      "100%|████████████████████████████████████████████████████████████████████████| 129297/129297 [00:22<00:00, 5856.58it/s]\n",
      "100%|███████████████████████████████████████████████████████████████████████| 129297/129297 [00:03<00:00, 38701.53it/s]\n",
      "100%|█████████████████████████████████████████████████████████████████████████| 129297/129297 [06:52<00:00, 313.70it/s]\n"
     ]
    },
    {
     "name": "stdout",
     "output_type": "stream",
     "text": [
      "---Merging all Dataframes (ATO, ATP, COM, TDMS)---\n",
      "---Processing Train 23 Car 46---\n",
      "---Processing ATO Dataframe---\n",
      "Number of null value entry =  0\n",
      "Found non-monotonic sequence at index:  Int64Index([39043, 49257, 78599, 86820, 92707, 101167], dtype='int64')\n",
      "[Timestamp('2019-11-14 17:04:37'), Timestamp('2019-11-14 17:04:38'), Timestamp('2019-11-14 17:04:39'), Timestamp('2019-11-14 17:04:40'), Timestamp('2019-11-14 17:04:41'), Timestamp('2019-11-14 17:04:42'), Timestamp('2019-11-14 17:04:43'), Timestamp('2019-11-14 17:04:44'), Timestamp('2019-11-14 17:04:45'), Timestamp('2019-11-14 17:04:46'), Timestamp('2019-11-14 17:04:47'), Timestamp('2019-11-14 17:04:48'), Timestamp('2019-11-14 17:04:49'), Timestamp('2019-11-14 17:04:50'), Timestamp('2019-11-14 17:04:51'), Timestamp('2019-11-14 17:04:52'), Timestamp('2019-11-14 17:04:53'), Timestamp('2019-11-14 17:04:54'), Timestamp('2019-11-14 17:04:55'), Timestamp('2019-11-14 17:04:56'), Timestamp('2019-11-14 17:04:57'), Timestamp('2019-11-14 17:04:58'), Timestamp('2019-11-14 17:04:59'), Timestamp('2019-11-14 17:05:00'), Timestamp('2019-11-14 17:05:01'), Timestamp('2019-11-14 17:05:02'), Timestamp('2019-11-14 17:05:03')]\n",
      "[20, 20, 20, 20, 20, 20, 20, 20, 20, 20, 20, 20, 20, 20, 19, 19, 19, 19, 19, 19, 19, 19, 19, 19, 19, 19, 19]\n",
      "[20, 20, 19, 20, 19, 20, 19, 20, 19, 20, 19, 20, 19, 20, 19, 20, 19, 20, 19, 20, 19, 20, 19, 20, 19, 20, 19]\n",
      "[Timestamp('2019-11-14 17:21:55'), Timestamp('2019-11-14 17:21:56')]\n",
      "[19, 19]\n",
      "[Timestamp('2019-11-14 18:12:03'), Timestamp('2019-11-14 18:12:04')]\n",
      "[16, 15]\n",
      "[16, 15]\n",
      "[Timestamp('2019-11-14 18:25:55'), Timestamp('2019-11-14 18:25:56')]\n",
      "[18, 17]\n",
      "[18, 17]\n",
      "[Timestamp('2019-11-14 18:35:56'), Timestamp('2019-11-14 18:35:57')]\n",
      "[16, 15]\n",
      "[16, 15]\n",
      "[Timestamp('2019-11-14 18:50:21'), Timestamp('2019-11-14 18:50:22')]\n",
      "[16, 15]\n",
      "[16, 15]\n",
      "Int64Index([], dtype='int64')\n",
      "---Processing ATP Dataframe---\n",
      "Number of null value entry =  0\n",
      "---Processing COM Dataframe---\n",
      "Number of null value entry =  0\n",
      "---Processing TDMS Dataframe---\n",
      "Number of null value entry =  0\n",
      "---Merging Dataframes---\n"
     ]
    },
    {
     "name": "stderr",
     "output_type": "stream",
     "text": [
      "100%|████████████████████████████████████████████████████████████████████████| 124350/124350 [00:24<00:00, 5169.88it/s]\n",
      "100%|███████████████████████████████████████████████████████████████████████| 124350/124350 [00:04<00:00, 30570.11it/s]\n",
      "100%|████████████████████████████████████████████████████████████████████████| 124350/124350 [01:05<00:00, 1885.92it/s]\n"
     ]
    },
    {
     "name": "stdout",
     "output_type": "stream",
     "text": [
      "---Merging Dataframes---\n"
     ]
    },
    {
     "name": "stderr",
     "output_type": "stream",
     "text": [
      "100%|████████████████████████████████████████████████████████████████████████| 124334/124334 [00:21<00:00, 5753.50it/s]\n",
      "100%|███████████████████████████████████████████████████████████████████████| 124334/124334 [00:02<00:00, 41981.02it/s]\n",
      "100%|████████████████████████████████████████████████████████████████████████| 124334/124334 [00:45<00:00, 2747.51it/s]\n"
     ]
    },
    {
     "name": "stdout",
     "output_type": "stream",
     "text": [
      "---Merging Dataframes---\n"
     ]
    },
    {
     "name": "stderr",
     "output_type": "stream",
     "text": [
      "100%|████████████████████████████████████████████████████████████████████████| 130257/130257 [00:23<00:00, 5537.72it/s]\n",
      "100%|███████████████████████████████████████████████████████████████████████| 130257/130257 [00:03<00:00, 36001.04it/s]\n",
      "100%|████████████████████████████████████████████████████████████████████████| 130257/130257 [00:57<00:00, 2255.20it/s]\n"
     ]
    },
    {
     "name": "stdout",
     "output_type": "stream",
     "text": [
      "---Merging all Dataframes (ATO, ATP, COM, TDMS)---\n",
      "EVR folder exist!\n",
      "---Processing EVR---\n",
      "---Processing C2 Dataframe---\n",
      "---Processing OD Dataframe---\n",
      "---Merging all Dataframes (C2 and OD)---\n",
      "[-19800.0, -19667.0, -18500.0, -20500.0, -21100.0, -18900.0, -24600.0, -19100.0, -17800.0] -19996\n",
      "Time Taken: 0:24:16.305171\n"
     ]
    }
   ],
   "source": [
    "starttime = timeit.default_timer()\n",
    "\n",
    "input_folder_path = './dataset/Train 23 14NOV2019 Work Folder/raw logs'\n",
    "start_time = '2019/11/14 17:00:00' \n",
    "end_time = '2019/11/14 20:00:00'\n",
    "\n",
    "# Atlas 10 Output (For Testing Purposes)\n",
    "# omap_sample_output_filename = ['./Train 23 14NOV2019 Work Folder/preprocessing_output/OMAP_Train_23_Car_45_20191114_1800_to_20191114_1900.csv',\n",
    "#                           './Train 23 14NOV2019 Work Folder/preprocessing_output/OMAP_Train_23_Car_46_20191114_1800_to_20191114_1900.csv']\n",
    "# evr_sample_output_filename = ['./Train 23 14NOV2019 Work Folder/preprocessing_output/EVR_20191114_1800_to_20191114_1900.csv']\n",
    "\n",
    "# Preprocess OMAP\n",
    "omap_result_list = omap.process_omap(input_folder_path, start_time, end_time)\n",
    "# OMAP Unit Test\n",
    "# for index in range (0, len(omap_result_list)):\n",
    "#     omap.unit_test(omap_sample_output_filename[index], 'ATP', omap_result_list[index][0])\n",
    "#     omap.unit_test(omap_sample_output_filename[index], 'COM', omap_result_list[index][1])\n",
    "#     omap.unit_test(omap_sample_output_filename[index], 'TDMS', omap_result_list[index][2])\n",
    "#     omap.unit_test_all(omap_sample_output_filename[index], omap_result_list[index][3])\n",
    "\n",
    "\n",
    "# Preprocess EVR\n",
    "df_c2_clean, df_od_clean, evr_df_result, evr_filepath = evr.process_evr(input_folder_path, start_time, end_time)\n",
    "# EVR Unit Test\n",
    "# evr.unit_test(evr_sample_output_filename[0], 'C2', df_c2_clean)  \n",
    "# evr.unit_test(evr_sample_output_filename[0], 'OD', df_od_clean)  \n",
    "# evr.unit_test_all(evr_sample_output_filename[0], evr_df_result)\n",
    "\n",
    "# Time Syncrhonization between OMAP & EVR \n",
    "# Estimate Time Shift\n",
    "time_shift = time_synchronize.estimate_time_shift(omap_result_list[0][3], evr_df_result)\n",
    "time_synchronize.apply_time_shift(evr_df_result, time_shift, evr_filepath)\n",
    "\n",
    "print(\"Time Taken:\", str(datetime.timedelta(seconds = (timeit.default_timer() - starttime))))"
   ]
  }
 ],
 "metadata": {
  "kernelspec": {
   "display_name": "Python 3",
   "language": "python",
   "name": "python3"
  },
  "language_info": {
   "codemirror_mode": {
    "name": "ipython",
    "version": 3
   },
   "file_extension": ".py",
   "mimetype": "text/x-python",
   "name": "python",
   "nbconvert_exporter": "python",
   "pygments_lexer": "ipython3",
   "version": "3.8.5"
  }
 },
 "nbformat": 4,
 "nbformat_minor": 4
}
