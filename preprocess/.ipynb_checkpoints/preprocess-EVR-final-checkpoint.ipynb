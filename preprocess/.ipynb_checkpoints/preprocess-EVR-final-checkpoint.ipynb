{
 "cells": [
  {
   "cell_type": "code",
   "execution_count": 1,
   "metadata": {
    "scrolled": true
   },
   "outputs": [],
   "source": [
    "import timeit\n",
    "import evr"
   ]
  },
  {
   "cell_type": "code",
   "execution_count": 2,
   "metadata": {
    "scrolled": true
   },
   "outputs": [
    {
     "name": "stdout",
     "output_type": "stream",
     "text": [
      "EVR folder exist!\n",
      "---Processing EVR---\n",
      "---Processing C2 Dataframe---\n",
      "---Processing OD Dataframe---\n",
      "---Merging all Dataframes (C2 and OD)---\n",
      "Time Taken: 3.8594576\n",
      "---Unit Test for C2 Dataframe---\n",
      "(3632, 208) (3632, 210)\n",
      "Epoch Equality Between Sample Output and Self Processed:  True\n",
      "Record Number Equality Between Sample Output and Self Processed:  True\n",
      "---Unit Test for OD Dataframe---\n",
      "(2655, 840) (2655, 842)\n",
      "Epoch Equality Between Sample Output and Self Processed:  True\n",
      "Record Number Equality Between Sample Output and Self Processed:  True\n",
      "---Unit Test for entire Dataframe---\n",
      "(3646, 1047) (3646, 1047)\n",
      "Epoch Equality Between Sample Output and Self Processed:  True\n",
      "C2 Record Number Equality Between Sample Output and Self Processed:  True\n",
      "OD Record Number Equality Between Sample Output and Self Processed:  True\n",
      "Difference betwen ATLAS Output and Self Generated:  Empty DataFrame\n",
      "Columns: []\n",
      "Index: []\n"
     ]
    }
   ],
   "source": [
    "starttime = timeit.default_timer()\n",
    "# input_folder_path =  './EVR_T23_Car46_261020/'\n",
    "# start_time = '2020/10/26 15:50:00' \n",
    "# end_time = '2020/10/26 16:50:00'\n",
    "# sample_output_filename = ['./EVR_T23_Car46_261020/preprocessing_output/EVR_20201026_1550_to_20201026_1650.csv']\n",
    "\n",
    "# input_folder_path = './Train 23 14NOV2019 Work Folder/raw logs'\n",
    "# start_time = '2019/11/14 17:00:00' \n",
    "# end_time = '2019/11/14 18:00:00'\n",
    "# sample_output_filename = ['./Train 23 14NOV2019 Work Folder/preprocessing_output/EVR_20191114_1700_to_20191114_1800.csv']\n",
    "\n",
    "input_folder_path = './Train 23 14NOV2019 Work Folder/raw logs'\n",
    "start_time = '2019/11/14 18:00:00' \n",
    "end_time = '2019/11/14 19:00:00'\n",
    "sample_output_filename = ['./Train 23 14NOV2019 Work Folder/preprocessing_output/EVR_20191114_1800_to_20191114_1900.csv']\n",
    "\n",
    "# input_folder_path = './Train 23 14NOV2019 Work Folder/raw logs'\n",
    "# start_time = '2019/11/14 17:00:00' \n",
    "# end_time = '2019/11/14 20:00:00'\n",
    "# sample_output_filename = ['./Train 23 14NOV2019 Work Folder/preprocessing_output/EVR_20191114_1700_to_20191114_2000.csv']\n",
    "\n",
    "# input_folder_path = './Train 25 11JAN2021 Work Folder/raw logs'\n",
    "# start_time = '2021/01/11 20:00:00' \n",
    "# end_time = '2021/01/11 23:59:00' \n",
    "# sample_output_filename = ['./Train 25 11JAN2021 Work Folder/preprocessing_output/EVR_20210111_2000_to_20210111_2359.csv']\n",
    "\n",
    "# input_folder_path = './EVR_T22_Car43_070720'\n",
    "# start_time = '2020/07/07 01:00:00' \n",
    "# end_time = '2020/07/07 14:00:00' \n",
    "# sample_output_filename = ['./EVR_T22_Car43_070720/preprocessing_output/EVR_20200707_0100_to_20200707_1400.csv']\n",
    "\n",
    "\n",
    "df_c2_clean, df_od_clean, df_result, evr_filepath = evr.process_evr(input_folder_path, start_time, end_time)\n",
    "print(\"Time Taken:\", timeit.default_timer() - starttime)\n",
    "# Unit Test\n",
    "#evr.output(sample_output_filename[0], df_result)\n",
    "evr.unit_test(sample_output_filename[0], 'C2', df_c2_clean)  \n",
    "evr.unit_test(sample_output_filename[0], 'OD', df_od_clean)  \n",
    "evr.unit_test_all(sample_output_filename[0], df_result)"
   ]
  },
  {
   "cell_type": "code",
   "execution_count": null,
   "metadata": {},
   "outputs": [],
   "source": []
  },
  {
   "cell_type": "code",
   "execution_count": null,
   "metadata": {},
   "outputs": [],
   "source": []
  }
 ],
 "metadata": {
  "kernelspec": {
   "display_name": "Python 3",
   "language": "python",
   "name": "python3"
  },
  "language_info": {
   "codemirror_mode": {
    "name": "ipython",
    "version": 3
   },
   "file_extension": ".py",
   "mimetype": "text/x-python",
   "name": "python",
   "nbconvert_exporter": "python",
   "pygments_lexer": "ipython3",
   "version": "3.8.5"
  }
 },
 "nbformat": 4,
 "nbformat_minor": 4
}
