{
 "cells": [
  {
   "cell_type": "code",
   "execution_count": 1,
   "metadata": {},
   "outputs": [
    {
     "name": "stdout",
     "output_type": "stream",
     "text": [
      "Using matplotlib backend: Qt5Agg\n",
      "[-900.0, -7100.0, -300.0] -600\n",
      "23.899773972869585\n",
      "23.607166969046762\n",
      "23.899773972869585 23.607166969046762\n",
      "Time Taken: 1.2598467000000007\n"
     ]
    }
   ],
   "source": [
    "%matplotlib\n",
    "import pandas as pd\n",
    "import timeit\n",
    "import time_synchronize\n",
    "\n",
    "omap_output_filename = './dataset/Train 23 14NOV2019 Work Folder/preprocessing_output/OMAP_Train_23_Car_45_20191114_1800_to_20191114_1900.csv'\n",
    "evr_output_filename = './dataset/Train 23 14NOV2019 Work Folder/preprocessing_output/EVR_20191114_1700_to_20191114_1800.csv'\n",
    "\n",
    "# omap_output_filename = './dataset/Train 23 14NOV2019 Work Folder/preprocessing_output/OMAP_Train_23_Car_45_20191114_1700_to_20191114_2000.csv'\n",
    "# evr_output_filename = './dataset/Train 23 14NOV2019 Work Folder/preprocessing_output/EVR_20191114_1700_to_20191114_2000.csv'\n",
    "\n",
    "# omap_output_filename = './preprocessing_output/OMAP_Train_23_Car_45_20191114_170000_to_20191114_200000.csv'\n",
    "# evr_output_filename = './preprocessing_output/EVR_20191114_170000_to_20191114_200000.csv'\n",
    "\n",
    "# omap_output_filename = './dataset/Train 25 11JAN2021 Work Folder/preprocessing_output/OMAP_Train_25_Car_49_20210111_2000_to_20210111_2359.csv'\n",
    "# evr_output_filename = './dataset/Train 25 11JAN2021 Work Folder/preprocessing_output/EVR_20210111_2000_to_20210111_2359.csv'\n",
    "\n",
    "# omap_output_filename = './dataset/2017_Train18_20170810/preprocessing_output/OMAP_Train_18_Car_35_20170810_0500_to_20170810_1000.csv'\n",
    "# evr_output_filename = './dataset/2017_Train18_20170810/preprocessing_output/EVR_20170810_0500_to_20170810_1000.csv'\n",
    "\n",
    "#Import OMAP & EVR\n",
    "omap_df = pd.read_csv(omap_output_filename)\n",
    "\n",
    "evr_df = pd.read_csv(evr_output_filename)\n",
    "\n",
    "starttime = timeit.default_timer()\n",
    "time_shift = time_synchronize.estimate_time_shift(omap_df, evr_df)\n",
    "print(\"Time Taken:\", timeit.default_timer() - starttime)\n",
    "time_synchronize.apply_time_shift(evr_df, time_shift, evr_output_filename)\n"
   ]
  },
  {
   "cell_type": "code",
   "execution_count": null,
   "metadata": {},
   "outputs": [],
   "source": []
  }
 ],
 "metadata": {
  "kernelspec": {
   "display_name": "Python 3",
   "language": "python",
   "name": "python3"
  },
  "language_info": {
   "codemirror_mode": {
    "name": "ipython",
    "version": 3
   },
   "file_extension": ".py",
   "mimetype": "text/x-python",
   "name": "python",
   "nbconvert_exporter": "python",
   "pygments_lexer": "ipython3",
   "version": "3.8.5"
  }
 },
 "nbformat": 4,
 "nbformat_minor": 4
}
